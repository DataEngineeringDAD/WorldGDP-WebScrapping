{
 "cells": [
  {
   "cell_type": "markdown",
   "id": "a8619f0c-8bbf-41ad-b30a-0eedcf26f8c2",
   "metadata": {},
   "source": [
    "# Introduction\n",
    "\n",
    "In this practice project, you will put the skills acquired through the course to use and create a complete ETL pipeline for accessing data from a website and processing it to meet the requirements."
   ]
  },
  {
   "cell_type": "markdown",
   "id": "428a6518-c0ae-4d93-a6ef-5b4b958bcf36",
   "metadata": {},
   "source": [
    "### Project Scenario:\n",
    "\n",
    "An international firm that is looking to expand its business in different countries across the world has recruited you. You have been hired as a junior Data Engineer and are tasked with creating an automated script that can extract the list of all countries in order of their GDPs in billion USDs (rounded to 2 decimal places), as logged by the International Monetary Fund (IMF). Since IMF releases this evaluation twice a year, this code will be used by the organization to extract the information as it is updated.\n",
    "\n",
    "The required data seems to be available on the URL mentioned below:\n",
    "\n",
    "**URL:** `https://web.archive.org/web/20230902185326/https://en.wikipedia.org/wiki/List_of_countries_by_GDP_%28nominal%29`\n",
    "\n",
    "The required information needs to be made accessible as a **``CSV``** file **``Countries_by_GDP.csv``** as well as a table **``Countries_by_GDP``** in a database file **``World_Economies.db``** with attributes Country and **``GDP_USD_billion``**.\n",
    "\n",
    "Your boss wants you to demonstrate the success of this code by running a query on the database table to display only the entries with more than a 100 billion USD economy. Also, you should log in a file with the entire process of execution named etl_project_log.txt.\n",
    "\n",
    "You must create a Python code **``'etl_project_gdp.py'``** that performs all the required tasks."
   ]
  },
  {
   "cell_type": "markdown",
   "id": "0870ea3d-d748-4337-8360-ef46ac57d733",
   "metadata": {},
   "source": [
    "## Objectives\n",
    "You have to complete the following tasks for this project\n",
    "\n",
    "1. Write a data extraction function to retrieve the relevant information from the required URL.\n",
    "\n",
    "2. Transform the available GDP information into 'Billion USD' from 'Million USD'.\n",
    "\n",
    "3. Load the transformed information to the required CSV file and as a database file.\n",
    "\n",
    "4. Run the required query on the database.\n",
    "\n",
    "5. Log the progress of the code with appropriate timestamps."
   ]
  },
  {
   "cell_type": "markdown",
   "id": "806a8f50-e170-43a6-81f4-57d14a53ffc4",
   "metadata": {},
   "source": [
    "# Initial setup\n",
    "\n",
    "Before you start building the code, you need to install the required libraries for it.\n",
    "\n",
    "The libraries needed for the code are as follows:\n",
    "\n",
    "1. **``requests``** - The library used for accessing the information from the URL.\n",
    "\n",
    "2. **``bs4``** - The library containing the **``BeautifulSoup``** function used for webscraping.\n",
    "\n",
    "3. **``pandas``** - The library used for processing the extracted data, storing it to required formats and communicating with the databases.\n",
    "\n",
    "4. **``sqlite3``** - The library required to create a database server connection.\n",
    "\n",
    "5. **``numpy``** - The library required for the mathematical rounding operation as required in the objectives.\n",
    "\n",
    "6. **``datetime``** - The library containing the function **``datetime``** used for extracting the timestamp for logging purposes.\n",
    "\n"
   ]
  },
  {
   "cell_type": "markdown",
   "id": "d9ae05c2-5ae2-4695-a627-00be50fd95f2",
   "metadata": {},
   "source": [
    "## Importing the required libraries"
   ]
  },
  {
   "cell_type": "code",
   "execution_count": 105,
   "id": "aea4fdda-80e7-4a40-a68c-ddbe36c8f88e",
   "metadata": {},
   "outputs": [],
   "source": [
    "import requests as req\n",
    "import geopandas as gpd\n",
    "import pandas as pd\n",
    "import numpy as np\n",
    "import datetime\n",
    "import sqlite3 \n",
    "from bs4 import BeautifulSoup"
   ]
  },
  {
   "cell_type": "markdown",
   "id": "5c2d5280-eff5-4db1-a42d-3fabf84c96bb",
   "metadata": {},
   "source": [
    "### Initialize all the known entities\n",
    "\n",
    "1. **URL:** 'https://web.archive.org/web/20230902185326/https://en.wikipedia.org/wiki/List_of_countries_by_GDP_%28nominal%29'\n",
    "\n",
    "2. **table_attribs:** The attributes or column names for the dataframe stored as a list. Since the data available in the website is in USD Millions, the attributes should initially be 'Country' and 'GDP_USD_millions'. This will be modified in the transform function later.\n",
    "\n",
    "3. **db_name:** As mentioned in the Project scenario, ``'World_Economies.db'``\n",
    "\n",
    "4. **table_name:** As mentioned in the Project scenario, ``'Countries_by_GDP'``\n",
    "\n",
    "5. **csv_path:** As mentioned in the Project scenario, ``'Countries_by_GDP.csv'``"
   ]
  },
  {
   "cell_type": "code",
   "execution_count": 106,
   "id": "9f5d36fe-5eed-406b-8bbd-0fa67ef9d767",
   "metadata": {},
   "outputs": [],
   "source": [
    "# Code for ETL operations on Country-GDP data\n",
    "url = 'https://web.archive.org/web/20230902185326/https://en.wikipedia.org/wiki/List_of_countries_by_GDP_%28nominal%29'\n",
    "table_attribs = [\"Country\", \"GDP_USD_millions\"]\n",
    "csv_path = 'Countries_by_GDP.csv'\n",
    "db_name = 'World_Economies.db'\n",
    "table_name = 'Countries_by_GDP'\n",
    "conn = sqlite3.connect(db_name)"
   ]
  },
  {
   "cell_type": "markdown",
   "id": "ad2b75c1-0dc7-438e-b1e2-1c28fdc6bb30",
   "metadata": {},
   "source": [
    "## Task 1: Extracting information"
   ]
  },
  {
   "cell_type": "code",
   "execution_count": 107,
   "id": "49eba45c-ae44-46bf-a071-994012cb0a21",
   "metadata": {},
   "outputs": [],
   "source": [
    "def extract(url, table_attribs):\n",
    "    ''' This function extracts the required\n",
    "    information from the website and saves it to a dataframe. The\n",
    "    function returns the dataframe for further processing. \n",
    "\n",
    "    Data Frame Columns:\n",
    "        Country: The name of the country.\n",
    "        GDP: Gross domestic product in USD$ (millions).\n",
    "    \n",
    "    '''\n",
    "    # 1. Extract the web page as text.\n",
    "    html_page = req.get(url).text\n",
    "\n",
    "    # 2. Parse the text into an HTML object.\n",
    "    data = BeautifulSoup(html_page, 'html.parser')\n",
    "\n",
    "    # 3. Create an empty pandas DataFrame named df with columns as the table_attribs.\n",
    "    df = pd.DataFrame(columns=table_attribs)\n",
    "\n",
    "    # 4. Extract all 'tbody' attributes of the HTML object and then extract all the rows of the index 2 table using the 'tr' attribute\n",
    "    tables = data.find_all('tbody')\n",
    "    rows = tables[2].find_all('tr')\n",
    "\n",
    "    for row in rows:\n",
    "        col = row.find_all('td')\n",
    "        #print(len(col))\n",
    "        if len(col) != 0:\n",
    "            data_dict ={\"Country\": col[0].get_text(strip = True),\n",
    "                        \"GDP_USD_millions\": col[2].get_text(strip = True)}\n",
    "            df1 = pd.DataFrame(data_dict, index = [0])\n",
    "            df = pd.concat([df, df1], ignore_index=True )\n",
    "\n",
    "    return df\n",
    "\n",
    "#extract(url,table_attribs).info()\n",
    "#print(extract(url,table_attribs))"
   ]
  },
  {
   "cell_type": "markdown",
   "id": "18f5942d-059f-4a33-a624-813a095bb725",
   "metadata": {},
   "source": [
    "## Task 2: Transform information"
   ]
  },
  {
   "cell_type": "code",
   "execution_count": 108,
   "id": "631797de-ab0f-4e10-97d0-726e1a974c20",
   "metadata": {},
   "outputs": [],
   "source": [
    "def transform(df):\n",
    "    ''' This function converts the GDP information from Currency\n",
    "    format to float value, transforms the information of GDP from\n",
    "    USD (Millions) to USD (Billions) rounding to 2 decimal places.\n",
    "    The function returns the transformed dataframe.'''\n",
    "    \n",
    "    df[\"GDP_USD_billions\"] = df[\"GDP_USD_millions\"].str.replace(',', '').str.replace('—', '0').astype(float)\n",
    "    df = df.drop(columns=[\"GDP_USD_millions\"])  \n",
    "\n",
    "    df[\"GDP_USD_billions\"] = np.round(df[\"GDP_USD_billions\"] / 1000,2)\n",
    "   \n",
    "    return df\n",
    "\n",
    "#transformed_df = transform(extract(url,table_attribs))\n",
    "#transformed_df.head()"
   ]
  },
  {
   "cell_type": "markdown",
   "id": "4a2e9006-acfc-47e9-a676-704982381f2e",
   "metadata": {},
   "source": [
    "## Task 3: Loading information"
   ]
  },
  {
   "cell_type": "code",
   "execution_count": 109,
   "id": "68b7536c-7915-4179-81ad-4871d962fc00",
   "metadata": {},
   "outputs": [],
   "source": [
    "def load_to_csv(df, csv_path):\n",
    "    ''' This function saves the final dataframe as a `CSV` file \n",
    "    in the provided path. Function returns nothing.'''\n",
    "\n",
    "    if len(df) > 0:\n",
    "        df.to_csv(csv_path)\n",
    "    else:\n",
    "        print(\"Dataframe is empty!\")\n",
    "\n",
    "\n",
    "def load_to_db(df, sql_connection, table_name):\n",
    "    '''This function saves the final dataframe as a database table\n",
    "       with the provided name. Function returns nothing.'''\n",
    "    #sql_connection = db_name\n",
    "    df.to_sql(table_name, sql_connection, if_exists='replace', index=False)\n",
    "\n",
    "#load_to_csv(transformed_df, csv_path)\n",
    "#load_to_db(transformed_df, conn ,table_name)"
   ]
  },
  {
   "cell_type": "markdown",
   "id": "8be15ae4-ffdf-41cf-bede-47a26adb7736",
   "metadata": {},
   "source": [
    "## Task 4: Querying the database table"
   ]
  },
  {
   "cell_type": "code",
   "execution_count": 110,
   "id": "7689d964-3ef5-452f-be53-608d176c50bf",
   "metadata": {},
   "outputs": [],
   "source": [
    "query_smt = \"\"\" SELECT * FROM Countries_by_GDP;\"\"\"\n",
    "def run_query(query_statement, sql_connection):\n",
    "    print(query_statement)\n",
    "    query_output = pd.read_sql(query_statement, sql_connection)\n",
    "    print(query_output)\n",
    "\n",
    "#run_query(query_smt, conn)"
   ]
  },
  {
   "cell_type": "markdown",
   "id": "382fb09a-ff4f-4f21-8cb5-e3f2dfd19eb5",
   "metadata": {},
   "source": [
    "## Task 5: Logging progress"
   ]
  },
  {
   "cell_type": "code",
   "execution_count": 113,
   "id": "8d705797-13cd-4f97-ba2a-bf2590276edf",
   "metadata": {},
   "outputs": [],
   "source": [
    "def log_progress(message):\n",
    "    timestamp_format = '%Y-%h-%d-%H:%M:%S'\n",
    "    now = datetime.datetime.now()\n",
    "    timestamp = now.strftime(timestamp_format)\n",
    "    with open(\"./etl_project_log.txt\",\"a\") as f:\n",
    "        f.write(timestamp + ' : ' + message + '\\n')\n"
   ]
  },
  {
   "cell_type": "markdown",
   "id": "848bf784-4ac1-4c2f-8e8e-b10b0b31ed96",
   "metadata": {},
   "source": [
    "## Task 6: Test execution\n"
   ]
  },
  {
   "cell_type": "code",
   "execution_count": 114,
   "id": "52750eea-8977-44b8-8d87-acf0cd5f35cb",
   "metadata": {},
   "outputs": [
    {
     "name": "stdout",
     "output_type": "stream",
     "text": [
      "SELECT * from Countries_by_GDP WHERE GDP_USD_billions >= 100\n",
      "          Country  GDP_USD_billions\n",
      "0           World         105568.78\n",
      "1   United States          26854.60\n",
      "2           China          19373.59\n",
      "3           Japan           4409.74\n",
      "4         Germany           4308.85\n",
      "..            ...               ...\n",
      "65          Kenya            118.13\n",
      "66         Angola            117.88\n",
      "67           Oman            104.90\n",
      "68      Guatemala            102.31\n",
      "69       Bulgaria            100.64\n",
      "\n",
      "[70 rows x 2 columns]\n"
     ]
    }
   ],
   "source": [
    "# Manejo de errores con mensajes de progreso\n",
    "try:\n",
    "    log_progress('Preliminaries complete. Initiating ETL process')\n",
    "\n",
    "    # Extracción de datos\n",
    "    try:\n",
    "        df = extract(url, table_attribs)\n",
    "        log_progress('Data extraction complete. Initiating Transformation process')\n",
    "    except Exception as e:\n",
    "        log_progress(f'Error during data extraction: {str(e)}')\n",
    "        raise\n",
    "\n",
    "    # Transformación de datos\n",
    "    try:\n",
    "        df = transform(df)\n",
    "        log_progress('Data transformation complete. Initiating loading process')\n",
    "    except Exception as e:\n",
    "        log_progress(f'Error during data transformation: {str(e)}')\n",
    "        raise\n",
    "\n",
    "    # Carga de datos en CSV\n",
    "    try:\n",
    "        load_to_csv(df, csv_path)\n",
    "        log_progress('Data saved to CSV file')\n",
    "    except Exception as e:\n",
    "        log_progress(f'Error saving data to CSV: {str(e)}')\n",
    "        raise\n",
    "\n",
    "    # Conexión a la base de datos\n",
    "    try:\n",
    "        sql_connection = sqlite3.connect('World_Economies.db')\n",
    "        log_progress('SQL Connection initiated.')\n",
    "    except Exception as e:\n",
    "        log_progress(f'Error initiating SQL connection: {str(e)}')\n",
    "        raise\n",
    "\n",
    "    # Carga de datos a la base de datos\n",
    "    try:\n",
    "        load_to_db(df, sql_connection, table_name)\n",
    "        log_progress('Data loaded to Database as table. Running the query')\n",
    "    except Exception as e:\n",
    "        log_progress(f'Error loading data to database: {str(e)}')\n",
    "        raise\n",
    "\n",
    "    # Ejecutar consulta\n",
    "    try:\n",
    "        query_statement = f\"SELECT * from {table_name} WHERE GDP_USD_billions >= 100\"\n",
    "        run_query(query_statement, sql_connection)\n",
    "        log_progress('Process Complete.')\n",
    "    except Exception as e:\n",
    "        log_progress(f'Error running SQL query: {str(e)}')\n",
    "        raise\n",
    "\n",
    "finally:\n",
    "    # Cierre seguro de la conexión\n",
    "    try:\n",
    "        if sql_connection:\n",
    "            sql_connection.close()\n",
    "            log_progress('SQL connection closed.')\n",
    "    except Exception as e:\n",
    "        log_progress(f'Error closing SQL connection: {str(e)}')"
   ]
  },
  {
   "cell_type": "code",
   "execution_count": null,
   "id": "e4671b80-7336-4da4-9a80-72fef5e6db6e",
   "metadata": {},
   "outputs": [],
   "source": [
    "\n"
   ]
  }
 ],
 "metadata": {
  "kernelspec": {
   "display_name": "Python 3 (ipykernel)",
   "language": "python",
   "name": "python3"
  },
  "language_info": {
   "codemirror_mode": {
    "name": "ipython",
    "version": 3
   },
   "file_extension": ".py",
   "mimetype": "text/x-python",
   "name": "python",
   "nbconvert_exporter": "python",
   "pygments_lexer": "ipython3",
   "version": "3.12.3"
  }
 },
 "nbformat": 4,
 "nbformat_minor": 5
}
